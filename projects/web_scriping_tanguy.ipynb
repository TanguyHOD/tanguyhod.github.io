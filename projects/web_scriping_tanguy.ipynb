{
 "cells": [
  {
   "cell_type": "markdown",
   "metadata": {},
   "source": [
    "# Web Scraping with Python\n",
    "\n",
    "#### Notebook by Tanguy HODONOU\n",
    "\n",
    "#### Objective: Scraping the data available [here](https://www.senscritique.com/liste/Bon_Films/66436) on senscritique website for movies between Page 1 and Page10 and perform the EDA."
   ]
  },
  {
   "cell_type": "markdown",
   "metadata": {},
   "source": [
    "## Table of contents\n",
    "\n",
    "1. [Required libraries](#Required-libraries)\n",
    "\n",
    "2. [Preparing the dataset](#Preparing-the-dataset)\n",
    "\n",
    "3. [Piecing everything together](#Piecing-everything-together)\n",
    "\n",
    "4. [Cleaning the scraped data](#Cleaning-the-scraped-data)\n",
    "\n",
    "5. [Exploratory Data Analysis](#Exploratory-Data-Analysis)\n"
   ]
  },
  {
   "cell_type": "markdown",
   "metadata": {},
   "source": [
    "### Required libraries"
   ]
  },
  {
   "cell_type": "code",
   "execution_count": 151,
   "metadata": {},
   "outputs": [],
   "source": [
    "from selenium import webdriver\n",
    "import time\n",
    "import numpy as np\n",
    "import pandas as pd\n",
    "import time\n",
    "import matplotlib.pyplot as plt\n",
    "import seaborn as sns\n",
    "\n",
    "# from selenium.webdriver.support.ui import Select\n",
    "# from bs4 import BeautifulSoup\n",
    "# from requests import get\n",
    "# from time import sleep\n",
    "# from random import randint\n",
    "# from IPython.core.display import clear_output\n",
    "# from bs4 import BeautifulSoup\n"
   ]
  },
  {
   "cell_type": "markdown",
   "metadata": {},
   "source": [
    "### Preparing the dataset\n",
    "\n",
    "On the senscritique website, it is possible to filter the searches, and thus to display all the movies for one variable, such as the year or rating, etc.\n",
    "\n",
    "There are many data available on this page. The data I want to keep for my Data Science study are:\n",
    "\n",
    " - The name of the movie\n",
    " - the director\n",
    " - the main actors\n",
    " - type of movie\n",
    " - duration\n",
    " - release date\n",
    " - rating\n",
    "\n",
    "So I developed a **Python script** using the BeautifulSoup library, which allows to parse HTML code, I limited the parsing to 10 pages, on each page there are 30 movies with all the data I want."
   ]
  },
  {
   "cell_type": "code",
   "execution_count": 114,
   "metadata": {},
   "outputs": [],
   "source": [
    "# déclaration des listes dans lesquelles stocker les données\n",
    "Nom_du_film1 = []\n",
    "Realisateur1 = []\n",
    "Acteurs_principaux1 = []\n",
    "Type_de_film1 = []\n",
    "Duree1 = []\n",
    "Date_de_sortie1 = []\n",
    "rating1 = []\n",
    "\n",
    "pages=[]\n",
    "for i in range(1, 11):\n",
    "    url = 'https://www.senscritique.com/liste/Bon_Films/66436#page-'+str(i)\n",
    "    pages.append(url)\n",
    "for page in pages:\n",
    "    browser = webdriver.Chrome(executable_path=\"C:/chromedriver.exe\")\n",
    "    response=browser.get(page)\n",
    "    #import time\n",
    "    time.sleep(10)\n",
    "    html=browser.page_source\n",
    "    \n",
    "    #Name_of_movie\n",
    "    nom= browser.find_elements_by_class_name('elco-anchor')\n",
    "    nom_titles = [x.text for x in nom]\n",
    "    Nom_du_film1.append(nom_titles)\n",
    "\n",
    "    #director  \n",
    "    Realisateur = browser.find_elements_by_class_name(\"elco-baseline\")\n",
    "    Realisateur_nom = [x.text for x in Realisateur][1::2]\n",
    "    Realisateur_nom1= [i.split(\"avec\")[0:1] for i in Realisateur_nom]\n",
    "    Realisateur1.append(Realisateur_nom1)\n",
    "\n",
    "\n",
    "    # main_actors   \n",
    "    Acteurs_principaux = browser.find_elements_by_class_name(\"elco-baseline\")\n",
    "    nom_acteurs= [x.text for x in Acteurs_principaux][1::2]\n",
    "    nom_acteurs1= [i.split(\"avec\")[1:] for i in nom_acteurs]\n",
    "    Acteurs_principaux1.append(nom_acteurs1)\n",
    "\n",
    "    #type_of_movie   \n",
    "    Type_de_film = browser.find_elements_by_class_name(\"elco-baseline\")\n",
    "    Type_de_fil = [x.text for x in Type_de_film][0:60:2]\n",
    "    Type_de_films= [i.split('.')[2] for i in Type_de_fil]\n",
    "    Type_de_film1.append(Type_de_films)\n",
    "\n",
    "\n",
    "    #duration\n",
    "    Duree = browser.find_elements_by_class_name(\"elco-baseline\")\n",
    "    Dureet=[x.text for x in Duree][0:60:2]\n",
    "    duree1= [i.split('.')[0] for i in Dureet]\n",
    "    Duree1.append(duree1)\n",
    "    \n",
    "\n",
    "    #release_date\n",
    "    Date_de_sortie = browser.find_elements_by_class_name(\"elco-baseline\")\n",
    "    ddate_de_sortie=[x.text for x in Date_de_sortie][0:60:2]\n",
    "    ddate_de_sortie1= [i.split('.')[1] for i in ddate_de_sortie]\n",
    "    Date_de_sortie1.append(ddate_de_sortie1)\n",
    "    \n",
    "    #rating\n",
    "    note = browser.find_elements_by_class_name(\"erra-global\")\n",
    "    rating = [x.text for x in note]\n",
    "    rating1.append(rating)"
   ]
  },
  {
   "cell_type": "code",
   "execution_count": 115,
   "metadata": {},
   "outputs": [],
   "source": [
    "from functools import reduce\n",
    "Nom_du_film2= reduce(lambda x,y: x+y,Nom_du_film1)\n",
    "Realisateurs= reduce(lambda x,y: x+y,Realisateur1)\n",
    "Realisateurs2= reduce(lambda x,y: x+y,Realisateur1)\n",
    "Acteurs_principauxx= reduce(lambda x,y: x+y,Acteurs_principaux1)\n",
    "Acteurs_principauxo=reduce(lambda x,y: x+y,Acteurs_principauxx)\n",
    "Type_de_film2= reduce(lambda x,y: x+y,Type_de_film1)\n",
    "Duree2= reduce(lambda x,y: x+y,Duree1)\n",
    "Date_de_sortie2= reduce(lambda x,y: x+y,Date_de_sortie1)\n",
    "Acteurs_principauxo.insert(40, 'NA')\n",
    "Rating2= reduce(lambda x,y: x+y,rating1)"
   ]
  },
  {
   "cell_type": "markdown",
   "metadata": {},
   "source": [
    "### Piecing everything together\n",
    "\n",
    "We create then the following dataframe **film_df** we can now save our dataframe in csv sheet.\n",
    "for later usage."
   ]
  },
  {
   "cell_type": "code",
   "execution_count": 116,
   "metadata": {},
   "outputs": [],
   "source": [
    "film_df = pd.DataFrame({'Name_of_movie': Nom_du_film2,\n",
    "'director': Realisateurs2,\n",
    "'main_actors': Acteurs_principauxo,\n",
    "'type_of_movie': Type_de_film2,\n",
    "'duration': Duree2,\n",
    "'release_date': Date_de_sortie2,\n",
    "'rating': Rating2                       \n",
    "})"
   ]
  },
  {
   "cell_type": "code",
   "execution_count": 117,
   "metadata": {},
   "outputs": [],
   "source": [
    "film_df.to_csv('E:/A_Projects/scraped.csv', encoding='utf-8-sig', index=False, sep=';')"
   ]
  },
  {
   "cell_type": "markdown",
   "metadata": {},
   "source": [
    "We can now save our dataframe in csv sheet."
   ]
  },
  {
   "cell_type": "markdown",
   "metadata": {},
   "source": [
    "### Cleaning the scraped data"
   ]
  },
  {
   "cell_type": "markdown",
   "metadata": {},
   "source": [
    "We’ll clean the scraped data with those goals in mind: plotting the distribution of rating. Identifiying the rating by type of movie, Identifiying the type of movie by year, Identiying the rating mean by type of movie\n",
    "Consequently, our data cleaning will consist of:\n",
    "\n",
    "    Creating the release_year column from release_date column.\n",
    "    Creating type movie column from type_of_movie column (to keep only the type of movie went there are two or more.\n",
    "    Reordering the columns."
   ]
  },
  {
   "cell_type": "code",
   "execution_count": 118,
   "metadata": {},
   "outputs": [],
   "source": [
    "df = pd.read_csv('E:/A_Projects/scraped.csv', sep=';')"
   ]
  },
  {
   "cell_type": "markdown",
   "metadata": {},
   "source": [
    "We can check the info of the df to see there are any missing values that we can fill."
   ]
  },
  {
   "cell_type": "code",
   "execution_count": 119,
   "metadata": {},
   "outputs": [
    {
     "name": "stdout",
     "output_type": "stream",
     "text": [
      "<class 'pandas.core.frame.DataFrame'>\n",
      "RangeIndex: 299 entries, 0 to 298\n",
      "Data columns (total 7 columns):\n",
      "Name_of_movie    299 non-null object\n",
      "director         299 non-null object\n",
      "main_actors      298 non-null object\n",
      "type_of_movie    294 non-null object\n",
      "duration         299 non-null object\n",
      "release_date     299 non-null object\n",
      "rating           299 non-null object\n",
      "dtypes: object(7)\n",
      "memory usage: 16.5+ KB\n",
      "None\n"
     ]
    }
   ],
   "source": [
    "print(df.info())"
   ]
  },
  {
   "cell_type": "markdown",
   "metadata": {},
   "source": [
    "With the code below we identifie precisely where the missing values are to deal with them."
   ]
  },
  {
   "cell_type": "code",
   "execution_count": 120,
   "metadata": {},
   "outputs": [
    {
     "data": {
      "text/plain": [
       "main_actors      1\n",
       "type_of_movie    5\n",
       "dtype: int64"
      ]
     },
     "execution_count": 120,
     "metadata": {},
     "output_type": "execute_result"
    }
   ],
   "source": [
    "null_columns=df.columns[df.isnull().any()]\n",
    "df[null_columns].isnull().sum()"
   ]
  },
  {
   "cell_type": "code",
   "execution_count": 121,
   "metadata": {},
   "outputs": [
    {
     "name": "stdout",
     "output_type": "stream",
     "text": [
      "          Name_of_movie                              director  \\\n",
      "40             Fireball       ['Film de Thanakorn Pongsuwan']   \n",
      "56   Ma fille, mon ange     ['Film de Alexis Durand-Brault ']   \n",
      "103  La Beauté du geste        ['Film de Nicole Holofcener ']   \n",
      "108         Soul Surfer            ['Film de Sean McNamara ']   \n",
      "147              Switch  ['Film de Frédéric Schoendoerffer ']   \n",
      "\n",
      "                                           main_actors type_of_movie  \\\n",
      "40                                                 NaN           NaN   \n",
      "56        Michel Côté, Karine Vanasse, Dominique Leduc           NaN   \n",
      "103   Oliver Platt, Catherine Keener, Elizabeth Keener           NaN   \n",
      "108          AnnaSophia Robb, Helen Hunt, Dennis Quaid           NaN   \n",
      "147       Eric Cantona, Aurélien Recoing, Karina Testa           NaN   \n",
      "\n",
      "                    duration               release_date rating  \n",
      "40                1 h 28 min                     Action    4.7  \n",
      "56                1 h 25 min   Sortie : 16 février 2007    6.1  \n",
      "103  Sortie : 8 juillet 2010         Comédie dramatique    6.5  \n",
      "108   Sortie : 15 avril 2011    Drame, action et biopic    6.3  \n",
      "147  Sortie : 6 juillet 2011                   Thriller    5.2  \n"
     ]
    }
   ],
   "source": [
    "print(df[df.isnull().any(axis=1)].head())"
   ]
  },
  {
   "cell_type": "markdown",
   "metadata": {},
   "source": [
    "Now we what are the missing values (the value that are not on the web page we scrapped) we decide to fill them with informations find on the internet."
   ]
  },
  {
   "cell_type": "code",
   "execution_count": 122,
   "metadata": {},
   "outputs": [],
   "source": [
    "df.loc[df.Name_of_movie == \"Fireball\", 'release_date'] = \"2009\"\n",
    "df.loc[df.Name_of_movie == \"Fireball\", 'type_of_movie'] = \"Action\"\n",
    "df.loc[df.Name_of_movie == \"Fireball\", 'main_actors'] = \"Preeti Barameeanat, Khanutra Chuchuaysuwan\"\n",
    "df.loc[df.Name_of_movie == \"Manuale d'amore 2 (Capitoli successivi)\", 'rating'] = \"8\"\n",
    "\n",
    "\n",
    "df.loc[df.Name_of_movie == \"La Beauté du geste\", 'type_of_movie'] = \"Comédie dramatique\"\n",
    "df.loc[df.Name_of_movie == \"Soul Surfer\", 'type_of_movie'] = \"Drame, action et biopic\"\n",
    "df.loc[df.Name_of_movie == \"Switch\", 'type_of_movie'] = \"Thriller\"\n",
    "df.loc[df.Name_of_movie == \"Ma fille, mon ange\", 'type_of_movie'] = \"Thriller\"\n",
    "\n",
    "df.loc[df.Name_of_movie == \"La Beauté du geste\", 'release_date'] = \"Sortie : 8 juillet 2010\"\n",
    "df.loc[df.Name_of_movie == \"Soul Surfer\", 'release_date'] = \"Sortie : 15 avril 2011\"\n",
    "df.loc[df.Name_of_movie == \"Switch\", 'release_date'] = \"Sortie : 6 juillet 2011\"\n",
    "\n",
    "df.loc[df.Name_of_movie == \"La Beauté du geste\", 'duration'] = \"1 h 30 min\"\n",
    "df.loc[df.Name_of_movie == \"Soul Surfer\", 'duration'] = \"1 h 46 min\"\n",
    "df.loc[df.Name_of_movie == \"Switch\", 'duration'] = \"1 h 28 min\""
   ]
  },
  {
   "cell_type": "code",
   "execution_count": 123,
   "metadata": {},
   "outputs": [],
   "source": [
    "df.loc[df.Name_of_movie == \"Manuale d'amore 2 (Capitoli successivi)\", 'rating'] = \"8\"\n",
    "df['release_year'] = df['release_date'].str[-4:] #creating the release_year columns\n",
    "df['type_movie'] = df['type_of_movie'].str.split().str[0] #creating the type_movie (only one type)\n",
    "df.rating = df[\"rating\"].astype(float) #we convert string rating into float\n",
    "df.type_movie = df_cleaned[\"type_movie\"].str.replace(',', '')"
   ]
  },
  {
   "cell_type": "markdown",
   "metadata": {},
   "source": [
    "After all that process of cleaning the scraped data, we now have a well build data frame name **df_cleaned** ready to be explore."
   ]
  },
  {
   "cell_type": "code",
   "execution_count": 133,
   "metadata": {},
   "outputs": [],
   "source": [
    "df_cleaned = df[['Name_of_movie', 'type_movie', 'release_year', 'rating', 'duration']]"
   ]
  },
  {
   "cell_type": "code",
   "execution_count": 134,
   "metadata": {},
   "outputs": [
    {
     "data": {
      "text/html": [
       "<div>\n",
       "<style scoped>\n",
       "    .dataframe tbody tr th:only-of-type {\n",
       "        vertical-align: middle;\n",
       "    }\n",
       "\n",
       "    .dataframe tbody tr th {\n",
       "        vertical-align: top;\n",
       "    }\n",
       "\n",
       "    .dataframe thead th {\n",
       "        text-align: right;\n",
       "    }\n",
       "</style>\n",
       "<table border=\"1\" class=\"dataframe\">\n",
       "  <thead>\n",
       "    <tr style=\"text-align: right;\">\n",
       "      <th></th>\n",
       "      <th>Name_of_movie</th>\n",
       "      <th>type_movie</th>\n",
       "      <th>release_year</th>\n",
       "      <th>rating</th>\n",
       "      <th>duration</th>\n",
       "    </tr>\n",
       "  </thead>\n",
       "  <tbody>\n",
       "    <tr>\n",
       "      <td>0</td>\n",
       "      <td>Les Émotifs anonymes</td>\n",
       "      <td>Comédie</td>\n",
       "      <td>2010</td>\n",
       "      <td>6.1</td>\n",
       "      <td>1 h 20 min</td>\n",
       "    </tr>\n",
       "    <tr>\n",
       "      <td>1</td>\n",
       "      <td>Killing Bono</td>\n",
       "      <td>Comédie</td>\n",
       "      <td>2011</td>\n",
       "      <td>6.4</td>\n",
       "      <td>1 h 54 min</td>\n",
       "    </tr>\n",
       "    <tr>\n",
       "      <td>2</td>\n",
       "      <td>Robin des bois, prince des voleurs</td>\n",
       "      <td>Aventure</td>\n",
       "      <td>1991</td>\n",
       "      <td>6.6</td>\n",
       "      <td>2 h 23 min</td>\n",
       "    </tr>\n",
       "    <tr>\n",
       "      <td>3</td>\n",
       "      <td>Un duplex pour 3</td>\n",
       "      <td>Comédie</td>\n",
       "      <td>2004</td>\n",
       "      <td>5.4</td>\n",
       "      <td>1 h 37 min</td>\n",
       "    </tr>\n",
       "    <tr>\n",
       "      <td>4</td>\n",
       "      <td>8 Mile</td>\n",
       "      <td>Drame</td>\n",
       "      <td>2002</td>\n",
       "      <td>6.8</td>\n",
       "      <td>1 h 50 min</td>\n",
       "    </tr>\n",
       "  </tbody>\n",
       "</table>\n",
       "</div>"
      ],
      "text/plain": [
       "                        Name_of_movie type_movie release_year  rating  \\\n",
       "0                Les Émotifs anonymes    Comédie         2010     6.1   \n",
       "1                        Killing Bono    Comédie         2011     6.4   \n",
       "2  Robin des bois, prince des voleurs   Aventure         1991     6.6   \n",
       "3                    Un duplex pour 3    Comédie         2004     5.4   \n",
       "4                              8 Mile      Drame         2002     6.8   \n",
       "\n",
       "     duration  \n",
       "0  1 h 20 min  \n",
       "1  1 h 54 min  \n",
       "2  2 h 23 min  \n",
       "3  1 h 37 min  \n",
       "4  1 h 50 min  "
      ]
     },
     "execution_count": 134,
     "metadata": {},
     "output_type": "execute_result"
    }
   ],
   "source": [
    "df_cleaned.head(5)"
   ]
  },
  {
   "cell_type": "code",
   "execution_count": 145,
   "metadata": {},
   "outputs": [
    {
     "data": {
      "text/html": [
       "<div>\n",
       "<style scoped>\n",
       "    .dataframe tbody tr th:only-of-type {\n",
       "        vertical-align: middle;\n",
       "    }\n",
       "\n",
       "    .dataframe tbody tr th {\n",
       "        vertical-align: top;\n",
       "    }\n",
       "\n",
       "    .dataframe thead th {\n",
       "        text-align: right;\n",
       "    }\n",
       "</style>\n",
       "<table border=\"1\" class=\"dataframe\">\n",
       "  <thead>\n",
       "    <tr style=\"text-align: right;\">\n",
       "      <th></th>\n",
       "      <th>rating</th>\n",
       "    </tr>\n",
       "  </thead>\n",
       "  <tbody>\n",
       "    <tr>\n",
       "      <td>min</td>\n",
       "      <td>2.7</td>\n",
       "    </tr>\n",
       "    <tr>\n",
       "      <td>max</td>\n",
       "      <td>8.5</td>\n",
       "    </tr>\n",
       "  </tbody>\n",
       "</table>\n",
       "</div>"
      ],
      "text/plain": [
       "     rating\n",
       "min     2.7\n",
       "max     8.5"
      ]
     },
     "execution_count": 145,
     "metadata": {},
     "output_type": "execute_result"
    }
   ],
   "source": [
    "df_cleaned.describe().loc[['min', 'max'], ['rating']]"
   ]
  },
  {
   "cell_type": "code",
   "execution_count": 143,
   "metadata": {},
   "outputs": [
    {
     "data": {
      "text/plain": [
       "131    Le Bon, la Brute et le Truand\n",
       "Name: Name_of_movie, dtype: object"
      ]
     },
     "execution_count": 143,
     "metadata": {},
     "output_type": "execute_result"
    }
   ],
   "source": [
    "df_cleaned.loc[df_cleaned['rating'] == 8.5, 'Name_of_movie']"
   ]
  },
  {
   "cell_type": "code",
   "execution_count": 142,
   "metadata": {},
   "outputs": [
    {
     "data": {
      "text/plain": [
       "188    Humains\n",
       "Name: Name_of_movie, dtype: object"
      ]
     },
     "execution_count": 142,
     "metadata": {},
     "output_type": "execute_result"
    }
   ],
   "source": [
    "df_cleaned.loc[df_cleaned['rating'] == 2.7, 'Name_of_movie']"
   ]
  },
  {
   "cell_type": "markdown",
   "metadata": {},
   "source": [
    "The movie **Humains** is the one with the lowest rate and the movie **Le Bon, la Bryte et le Truand** have the highest rate. "
   ]
  },
  {
   "cell_type": "code",
   "execution_count": 170,
   "metadata": {},
   "outputs": [
    {
     "data": {
      "image/png": "[encoded data removed]",
      "text/plain": [
       "<Figure size 432x288 with 1 Axes>"
      ]
     },
     "metadata": {
      "needs_background": "light"
     },
     "output_type": "display_data"
    }
   ],
   "source": [
    "sns.countplot(y=\"type_movie\", data=df_cleaned)\n",
    "plt.show()"
   ]
  },
  {
   "cell_type": "code",
   "execution_count": 169,
   "metadata": {},
   "outputs": [
    {
     "data": {
      "text/html": [
       "<div>\n",
       "<style scoped>\n",
       "    .dataframe tbody tr th:only-of-type {\n",
       "        vertical-align: middle;\n",
       "    }\n",
       "\n",
       "    .dataframe tbody tr th {\n",
       "        vertical-align: top;\n",
       "    }\n",
       "\n",
       "    .dataframe thead th {\n",
       "        text-align: right;\n",
       "    }\n",
       "</style>\n",
       "<table border=\"1\" class=\"dataframe\">\n",
       "  <thead>\n",
       "    <tr style=\"text-align: right;\">\n",
       "      <th>col_0</th>\n",
       "      <th>freq</th>\n",
       "    </tr>\n",
       "    <tr>\n",
       "      <th>type_movie</th>\n",
       "      <th></th>\n",
       "    </tr>\n",
       "  </thead>\n",
       "  <tbody>\n",
       "    <tr>\n",
       "      <td>Action</td>\n",
       "      <td>0.317726</td>\n",
       "    </tr>\n",
       "    <tr>\n",
       "      <td>Animation</td>\n",
       "      <td>0.013378</td>\n",
       "    </tr>\n",
       "    <tr>\n",
       "      <td>Arts</td>\n",
       "      <td>0.003344</td>\n",
       "    </tr>\n",
       "    <tr>\n",
       "      <td>Aventure</td>\n",
       "      <td>0.070234</td>\n",
       "    </tr>\n",
       "    <tr>\n",
       "      <td>Biopic</td>\n",
       "      <td>0.013378</td>\n",
       "    </tr>\n",
       "    <tr>\n",
       "      <td>Catastrophe</td>\n",
       "      <td>0.010033</td>\n",
       "    </tr>\n",
       "    <tr>\n",
       "      <td>Comédie</td>\n",
       "      <td>0.287625</td>\n",
       "    </tr>\n",
       "    <tr>\n",
       "      <td>Drame</td>\n",
       "      <td>0.150502</td>\n",
       "    </tr>\n",
       "    <tr>\n",
       "      <td>Fantastique</td>\n",
       "      <td>0.010033</td>\n",
       "    </tr>\n",
       "    <tr>\n",
       "      <td>Fantasy</td>\n",
       "      <td>0.013378</td>\n",
       "    </tr>\n",
       "    <tr>\n",
       "      <td>Policier</td>\n",
       "      <td>0.040134</td>\n",
       "    </tr>\n",
       "    <tr>\n",
       "      <td>Romance</td>\n",
       "      <td>0.016722</td>\n",
       "    </tr>\n",
       "    <tr>\n",
       "      <td>Science-fiction</td>\n",
       "      <td>0.003344</td>\n",
       "    </tr>\n",
       "    <tr>\n",
       "      <td>Sketches</td>\n",
       "      <td>0.003344</td>\n",
       "    </tr>\n",
       "    <tr>\n",
       "      <td>Thriller</td>\n",
       "      <td>0.023411</td>\n",
       "    </tr>\n",
       "    <tr>\n",
       "      <td>Western</td>\n",
       "      <td>0.003344</td>\n",
       "    </tr>\n",
       "    <tr>\n",
       "      <td>Épouvante-Horreur</td>\n",
       "      <td>0.020067</td>\n",
       "    </tr>\n",
       "  </tbody>\n",
       "</table>\n",
       "</div>"
      ],
      "text/plain": [
       "col_0                  freq\n",
       "type_movie                 \n",
       "Action             0.317726\n",
       "Animation          0.013378\n",
       "Arts               0.003344\n",
       "Aventure           0.070234\n",
       "Biopic             0.013378\n",
       "Catastrophe        0.010033\n",
       "Comédie            0.287625\n",
       "Drame              0.150502\n",
       "Fantastique        0.010033\n",
       "Fantasy            0.013378\n",
       "Policier           0.040134\n",
       "Romance            0.016722\n",
       "Science-fiction    0.003344\n",
       "Sketches           0.003344\n",
       "Thriller           0.023411\n",
       "Western            0.003344\n",
       "Épouvante-Horreur  0.020067"
      ]
     },
     "execution_count": 169,
     "metadata": {},
     "output_type": "execute_result"
    }
   ],
   "source": [
    "my_tab=pd.crosstab(df_cleaned[\"type_movie\"], \"freq\", normalize=True)\n",
    "my_tab"
   ]
  },
  {
   "cell_type": "markdown",
   "metadata": {},
   "source": [
    "The plot above show the share of the different movie type in the dataset. The type Comédie,Drame and Action are the most frequent. There are 31.77% of action movie, 28.76% of Comedie Movie and 15.05% of Drame movie."
   ]
  },
  {
   "cell_type": "markdown",
   "metadata": {},
   "source": [
    "Below we can se the average rating by movie type"
   ]
  },
  {
   "cell_type": "code",
   "execution_count": 135,
   "metadata": {},
   "outputs": [
    {
     "data": {
      "text/html": [
       "<div>\n",
       "<style scoped>\n",
       "    .dataframe tbody tr th:only-of-type {\n",
       "        vertical-align: middle;\n",
       "    }\n",
       "\n",
       "    .dataframe tbody tr th {\n",
       "        vertical-align: top;\n",
       "    }\n",
       "\n",
       "    .dataframe thead th {\n",
       "        text-align: right;\n",
       "    }\n",
       "</style>\n",
       "<table border=\"1\" class=\"dataframe\">\n",
       "  <thead>\n",
       "    <tr style=\"text-align: right;\">\n",
       "      <th></th>\n",
       "      <th>rating</th>\n",
       "    </tr>\n",
       "    <tr>\n",
       "      <th>type_movie</th>\n",
       "      <th></th>\n",
       "    </tr>\n",
       "  </thead>\n",
       "  <tbody>\n",
       "    <tr>\n",
       "      <td>Action</td>\n",
       "      <td>5.653684</td>\n",
       "    </tr>\n",
       "    <tr>\n",
       "      <td>Animation</td>\n",
       "      <td>6.550000</td>\n",
       "    </tr>\n",
       "    <tr>\n",
       "      <td>Arts</td>\n",
       "      <td>6.200000</td>\n",
       "    </tr>\n",
       "    <tr>\n",
       "      <td>Aventure</td>\n",
       "      <td>5.833333</td>\n",
       "    </tr>\n",
       "    <tr>\n",
       "      <td>Biopic</td>\n",
       "      <td>6.150000</td>\n",
       "    </tr>\n",
       "    <tr>\n",
       "      <td>Catastrophe</td>\n",
       "      <td>4.800000</td>\n",
       "    </tr>\n",
       "    <tr>\n",
       "      <td>Comédie</td>\n",
       "      <td>5.701163</td>\n",
       "    </tr>\n",
       "    <tr>\n",
       "      <td>Drame</td>\n",
       "      <td>6.328889</td>\n",
       "    </tr>\n",
       "    <tr>\n",
       "      <td>Fantastique</td>\n",
       "      <td>4.433333</td>\n",
       "    </tr>\n",
       "    <tr>\n",
       "      <td>Fantasy</td>\n",
       "      <td>4.650000</td>\n",
       "    </tr>\n",
       "    <tr>\n",
       "      <td>Policier</td>\n",
       "      <td>6.850000</td>\n",
       "    </tr>\n",
       "    <tr>\n",
       "      <td>Romance</td>\n",
       "      <td>5.040000</td>\n",
       "    </tr>\n",
       "    <tr>\n",
       "      <td>Science-fiction</td>\n",
       "      <td>6.400000</td>\n",
       "    </tr>\n",
       "    <tr>\n",
       "      <td>Sketches</td>\n",
       "      <td>4.700000</td>\n",
       "    </tr>\n",
       "    <tr>\n",
       "      <td>Thriller</td>\n",
       "      <td>5.471429</td>\n",
       "    </tr>\n",
       "    <tr>\n",
       "      <td>Western</td>\n",
       "      <td>7.800000</td>\n",
       "    </tr>\n",
       "    <tr>\n",
       "      <td>Épouvante-Horreur</td>\n",
       "      <td>6.000000</td>\n",
       "    </tr>\n",
       "  </tbody>\n",
       "</table>\n",
       "</div>"
      ],
      "text/plain": [
       "                     rating\n",
       "type_movie                 \n",
       "Action             5.653684\n",
       "Animation          6.550000\n",
       "Arts               6.200000\n",
       "Aventure           5.833333\n",
       "Biopic             6.150000\n",
       "Catastrophe        4.800000\n",
       "Comédie            5.701163\n",
       "Drame              6.328889\n",
       "Fantastique        4.433333\n",
       "Fantasy            4.650000\n",
       "Policier           6.850000\n",
       "Romance            5.040000\n",
       "Science-fiction    6.400000\n",
       "Sketches           4.700000\n",
       "Thriller           5.471429\n",
       "Western            7.800000\n",
       "Épouvante-Horreur  6.000000"
      ]
     },
     "execution_count": 135,
     "metadata": {},
     "output_type": "execute_result"
    }
   ],
   "source": [
    "df_cleaned.groupby('type_movie')[['rating']].mean()"
   ]
  },
  {
   "cell_type": "code",
   "execution_count": 173,
   "metadata": {},
   "outputs": [
    {
     "data": {
      "text/plain": [
       "Text(0.5, 1.0, 'The distribution of rating')"
      ]
     },
     "execution_count": 173,
     "metadata": {},
     "output_type": "execute_result"
    },
    {
     "data": {
      "image/png": "[encoded data removed]",
      "text/plain": [
       "<Figure size 432x288 with 1 Axes>"
      ]
     },
     "metadata": {
      "needs_background": "light"
     },
     "output_type": "display_data"
    }
   ],
   "source": [
    "g = sns.distplot(df_cleaned.rating, bins=20, kde=False)\n",
    "g.set_title('The distribution of rating')"
   ]
  },
  {
   "cell_type": "markdown",
   "metadata": {},
   "source": [
    "With the distribution of rating, we can see that most ratings are between 4 and 7. There are few movies with a rating greater than 7, and even fewer with a rating smaller than 4. This indicates that both very good movies and very bad movies are rarer."
   ]
  },
  {
   "cell_type": "code",
   "execution_count": null,
   "metadata": {},
   "outputs": [],
   "source": []
  }
 ],
 "metadata": {
  "kernelspec": {
   "display_name": "Python 3",
   "language": "python",
   "name": "python3"
  },
  "language_info": {
   "codemirror_mode": {
    "name": "ipython",
    "version": 3
   },
   "file_extension": ".py",
   "mimetype": "text/x-python",
   "name": "python",
   "nbconvert_exporter": "python",
   "pygments_lexer": "ipython3",
   "version": "3.7.4"
  }
 },
 "nbformat": 4,
 "nbformat_minor": 2
}
