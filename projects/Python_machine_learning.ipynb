{
 "cells": [
  {
   "cell_type": "markdown",
   "metadata": {},
   "source": [
    "# Projet PYTHON  scoring\n",
    "\n",
    "#### Réalisé par Adeniji Abudu Mederic Dorego Tanguy Hodonou\n",
    "\n",
    "#### Professeur référent : William KENGNE"
   ]
  },
  {
   "cell_type": "markdown",
   "metadata": {},
   "source": [
    "### Importation des librairies a utilisées\n",
    "\n",
    "[[ go back to the top ]](#SOMMAIRE)\n"
   ]
  },
  {
   "cell_type": "code",
   "execution_count": 358,
   "metadata": {},
   "outputs": [],
   "source": [
    "import pandas as pd\n",
    "import numpy as np\n",
    "import seaborn as sns\n",
    "import matplotlib.pyplot as plt\n",
    "from matplotlib.pyplot import subplot, figure, subplots\n",
    "from sklearn.impute import SimpleImputer \n",
    "from sklearn.model_selection import train_test_split\n",
    "from sklearn.linear_model import LogisticRegression\n",
    "from sklearn.model_selection import GridSearchCV\n",
    "from sklearn import metrics\n",
    "from sklearn.metrics import confusion_matrix\n",
    "from sklearn.tree import DecisionTreeClassifier\n",
    "from sklearn.tree import export_graphviz"
   ]
  },
  {
   "cell_type": "markdown",
   "metadata": {},
   "source": [
    "Commençons par lire les données dans un DataFrame pandas."
   ]
  },
  {
   "cell_type": "code",
   "execution_count": 359,
   "metadata": {},
   "outputs": [],
   "source": [
    "file = \"E:\\AA_Master_IEAD\\homework\\Data_mining\\Tab2.sas7bdat\"\n",
    "df = pd.read_sas(file,format='sas7bdat', encoding='utf-8')"
   ]
  },
  {
   "cell_type": "markdown",
   "metadata": {},
   "source": [
    "On renomme les variables disponibles dans la table."
   ]
  },
  {
   "cell_type": "code",
   "execution_count": 360,
   "metadata": {},
   "outputs": [],
   "source": [
    "df.rename(columns={'varA':'incident',\n",
    "                   'varB':'pret',\n",
    "                   'varC':'hypotheque',\n",
    "                   'varD':'propriete',\n",
    "                   'varE':'motif',\n",
    "                   'varF':'profession',\n",
    "                   'varG':'experience',\n",
    "                   'varH':'nbreport',\n",
    "                   'varI':'nblitige',\n",
    "                   'varJ':'agecredit',\n",
    "                   'varK':'nbcredit',\n",
    "                   'varL':'ratio'},\n",
    "          inplace=True)"
   ]
  },
  {
   "cell_type": "code",
   "execution_count": 361,
   "metadata": {},
   "outputs": [],
   "source": [
    "#on convertit la variable incident en une variable binaire\n",
    "df['incident'] = df.incident.astype('int')\n",
    "\n",
    "#Enfin nous avons transformé variable « AgeCred » qui était en mois en années.\n",
    "df['agecredit'] = df['agecredit']/12\n",
    "\n",
    "df_quanti=df[['incident', 'pret', 'hypotheque', 'propriete',\n",
    "             'experience', 'nbreport', 'nblitige', 'agecredit', \n",
    "              'nbcredit','ratio']]\n",
    "\n",
    "df_quali=df[['motif', 'profession']]"
   ]
  },
  {
   "cell_type": "markdown",
   "metadata": {},
   "source": [
    "#### Imputation par la moyenne des données manquantes\n",
    "\n",
    "[[ go back to the top ]](#SOMMAIRE)\n",
    "\n",
    "L’imputation simple est le remplacement des données manquantes par des valeurs statistiques choisies de façon raisonnée comme nous l'avons défini précédemment. Pour les variables quantitatives nous décidons de faire une imputation par la moyenne. "
   ]
  },
  {
   "cell_type": "code",
   "execution_count": 362,
   "metadata": {},
   "outputs": [],
   "source": [
    "df_quanti_nomissing = df_quanti.apply(lambda x: x.fillna(x.mean()),axis=0)\n",
    "#print(df_quanti_nomissing.isnull().sum(axis=0))"
   ]
  },
  {
   "cell_type": "markdown",
   "metadata": {},
   "source": [
    "#### Imputation par le mode\n",
    "\n",
    "[[ go back to the top ]](#SOMMAIRE)\n",
    "\n",
    "L'imputation par le mode s'effectue uniquement sur les variables qualitatives. Dans notre cas nous disposons de deux variables qualitatives. \n",
    "Il s'agit de la variable «Motif» et la variable «Profession». Les tableaux suivants représentent les différentes modalités prises par ces variables et leurs fréquences avant et après imputation.\n"
   ]
  },
  {
   "cell_type": "code",
   "execution_count": 363,
   "metadata": {},
   "outputs": [],
   "source": [
    "df_most_common_imputed = df_quali.apply(lambda x: x.fillna(x.value_counts().index[0]))\n",
    "#print(df_most_common_imputed.isnull().sum(axis=0))"
   ]
  },
  {
   "cell_type": "code",
   "execution_count": 364,
   "metadata": {},
   "outputs": [],
   "source": [
    "#table sans valeur manquante\n",
    "data_credit=pd.concat([df_most_common_imputed, df_quanti_nomissing], axis=1)\n",
    "#\n",
    "data_credit['incident'] = np.where(df['incident']==1, 'oui', 'non')"
   ]
  },
  {
   "cell_type": "code",
   "execution_count": 365,
   "metadata": {},
   "outputs": [
    {
     "data": {
      "text/html": [
       "<div>\n",
       "<style scoped>\n",
       "    .dataframe tbody tr th:only-of-type {\n",
       "        vertical-align: middle;\n",
       "    }\n",
       "\n",
       "    .dataframe tbody tr th {\n",
       "        vertical-align: top;\n",
       "    }\n",
       "\n",
       "    .dataframe thead th {\n",
       "        text-align: right;\n",
       "    }\n",
       "</style>\n",
       "<table border=\"1\" class=\"dataframe\">\n",
       "  <thead>\n",
       "    <tr style=\"text-align: right;\">\n",
       "      <th></th>\n",
       "      <th>pret</th>\n",
       "      <th>hypotheque</th>\n",
       "      <th>propriete</th>\n",
       "      <th>experience</th>\n",
       "      <th>nbreport</th>\n",
       "      <th>nblitige</th>\n",
       "      <th>agecredit</th>\n",
       "      <th>nbcredit</th>\n",
       "      <th>ratio</th>\n",
       "      <th>incident_oui</th>\n",
       "      <th>motif_HomeImp</th>\n",
       "      <th>profession_Office</th>\n",
       "      <th>profession_Other</th>\n",
       "      <th>profession_ProfEx</th>\n",
       "      <th>profession_Sales</th>\n",
       "      <th>profession_Self</th>\n",
       "    </tr>\n",
       "  </thead>\n",
       "  <tbody>\n",
       "    <tr>\n",
       "      <td>0</td>\n",
       "      <td>1300.0</td>\n",
       "      <td>70053.0</td>\n",
       "      <td>68400.0</td>\n",
       "      <td>7.0</td>\n",
       "      <td>0.0</td>\n",
       "      <td>2.0</td>\n",
       "      <td>10.152500</td>\n",
       "      <td>0.0</td>\n",
       "      <td>33.630728</td>\n",
       "      <td>1</td>\n",
       "      <td>1</td>\n",
       "      <td>0</td>\n",
       "      <td>1</td>\n",
       "      <td>0</td>\n",
       "      <td>0</td>\n",
       "      <td>0</td>\n",
       "    </tr>\n",
       "    <tr>\n",
       "      <td>1</td>\n",
       "      <td>1500.0</td>\n",
       "      <td>13500.0</td>\n",
       "      <td>16700.0</td>\n",
       "      <td>4.0</td>\n",
       "      <td>0.0</td>\n",
       "      <td>0.0</td>\n",
       "      <td>12.455833</td>\n",
       "      <td>1.0</td>\n",
       "      <td>33.630728</td>\n",
       "      <td>1</td>\n",
       "      <td>1</td>\n",
       "      <td>0</td>\n",
       "      <td>1</td>\n",
       "      <td>0</td>\n",
       "      <td>0</td>\n",
       "      <td>0</td>\n",
       "    </tr>\n",
       "    <tr>\n",
       "      <td>2</td>\n",
       "      <td>1700.0</td>\n",
       "      <td>97800.0</td>\n",
       "      <td>112000.0</td>\n",
       "      <td>3.0</td>\n",
       "      <td>0.0</td>\n",
       "      <td>0.0</td>\n",
       "      <td>7.777500</td>\n",
       "      <td>0.0</td>\n",
       "      <td>33.630728</td>\n",
       "      <td>0</td>\n",
       "      <td>1</td>\n",
       "      <td>1</td>\n",
       "      <td>0</td>\n",
       "      <td>0</td>\n",
       "      <td>0</td>\n",
       "      <td>0</td>\n",
       "    </tr>\n",
       "    <tr>\n",
       "      <td>3</td>\n",
       "      <td>1700.0</td>\n",
       "      <td>30548.0</td>\n",
       "      <td>40320.0</td>\n",
       "      <td>9.0</td>\n",
       "      <td>0.0</td>\n",
       "      <td>0.0</td>\n",
       "      <td>8.455833</td>\n",
       "      <td>1.0</td>\n",
       "      <td>37.114000</td>\n",
       "      <td>1</td>\n",
       "      <td>1</td>\n",
       "      <td>0</td>\n",
       "      <td>1</td>\n",
       "      <td>0</td>\n",
       "      <td>0</td>\n",
       "      <td>0</td>\n",
       "    </tr>\n",
       "    <tr>\n",
       "      <td>4</td>\n",
       "      <td>1800.0</td>\n",
       "      <td>48649.0</td>\n",
       "      <td>57037.0</td>\n",
       "      <td>5.0</td>\n",
       "      <td>3.0</td>\n",
       "      <td>2.0</td>\n",
       "      <td>6.425000</td>\n",
       "      <td>1.0</td>\n",
       "      <td>33.630728</td>\n",
       "      <td>1</td>\n",
       "      <td>1</td>\n",
       "      <td>0</td>\n",
       "      <td>1</td>\n",
       "      <td>0</td>\n",
       "      <td>0</td>\n",
       "      <td>0</td>\n",
       "    </tr>\n",
       "  </tbody>\n",
       "</table>\n",
       "</div>"
      ],
      "text/plain": [
       "     pret  hypotheque  propriete  experience  nbreport  nblitige  agecredit  \\\n",
       "0  1300.0     70053.0    68400.0         7.0       0.0       2.0  10.152500   \n",
       "1  1500.0     13500.0    16700.0         4.0       0.0       0.0  12.455833   \n",
       "2  1700.0     97800.0   112000.0         3.0       0.0       0.0   7.777500   \n",
       "3  1700.0     30548.0    40320.0         9.0       0.0       0.0   8.455833   \n",
       "4  1800.0     48649.0    57037.0         5.0       3.0       2.0   6.425000   \n",
       "\n",
       "   nbcredit      ratio  incident_oui  motif_HomeImp  profession_Office  \\\n",
       "0       0.0  33.630728             1              1                  0   \n",
       "1       1.0  33.630728             1              1                  0   \n",
       "2       0.0  33.630728             0              1                  1   \n",
       "3       1.0  37.114000             1              1                  0   \n",
       "4       1.0  33.630728             1              1                  0   \n",
       "\n",
       "   profession_Other  profession_ProfEx  profession_Sales  profession_Self  \n",
       "0                 1                  0                 0                0  \n",
       "1                 1                  0                 0                0  \n",
       "2                 0                  0                 0                0  \n",
       "3                 1                  0                 0                0  \n",
       "4                 1                  0                 0                0  "
      ]
     },
     "execution_count": 365,
     "metadata": {},
     "output_type": "execute_result"
    }
   ],
   "source": [
    "# Une seule indicatrice par variable binaire\n",
    "data_final = pd.get_dummies(data_credit, columns=['incident', 'motif', 'profession'], drop_first= True)\n",
    "data_final.head()"
   ]
  },
  {
   "cell_type": "markdown",
   "metadata": {},
   "source": [
    "## Elaboration et évaluation des modèles\n",
    "\n",
    "[[ go back to the top ]](#SOMMAIRE)\n",
    "\n",
    "Cette partie fera l'objet d'une part d'un problème de classification et d'autre part l'élaboration de Score comme évoqué précédemment.\n",
    "La problématique prédictive de la solvabilité ou non des clients nous amène à adopter dans la suite la méthode de classification supervisée. \n",
    "Nous avons donc divisé nos données de manière aléatoire en deux parties.  2/3 pour l’échantillon d'apprentissage qui sera utilisé pour la construction des modèles et 1/3 pour l’échantillon test qui nous permettra d'évaluer les modèles.\n",
    "\n",
    "\n",
    "               ▪ K-plus proches voisins\n",
    "               ▪ La régression logistique\n",
    "               ▪ Arbres de décision\n",
    "               ▪ Forêts aléatoires"
   ]
  },
  {
   "cell_type": "markdown",
   "metadata": {},
   "source": [
    "#### Extraction des échantillons apprentisage et test"
   ]
  },
  {
   "cell_type": "code",
   "execution_count": 366,
   "metadata": {},
   "outputs": [],
   "source": [
    "#variables explicative\n",
    "X = data_final.drop([\"incident_oui\"], axis=1)\n",
    "#variable predictive\n",
    "y = data_final[\"incident_oui\"]\n",
    "#Extraction\n",
    "X_train, X_test, y_train, y_test = train_test_split(X, y, test_size=0.33)\n"
   ]
  },
  {
   "cell_type": "markdown",
   "metadata": {},
   "source": [
    "## K-plus proches voisins"
   ]
  },
  {
   "cell_type": "code",
   "execution_count": 367,
   "metadata": {},
   "outputs": [
    {
     "data": {
      "text/plain": [
       "0.1796610169491526"
      ]
     },
     "execution_count": 367,
     "metadata": {},
     "output_type": "execute_result"
    }
   ],
   "source": [
    "knn = KNeighborsClassifier(n_neighbors=10)\n",
    "credit_knn=knn.fit(X_train, y_train)\n",
    "# Estimation de l’erreur de prévision\n",
    "# sur l’échantillon test\n",
    "1-credit_knn.score(X_test,y_test)"
   ]
  },
  {
   "cell_type": "markdown",
   "metadata": {},
   "source": [
    "Optimisation du paramètre de complexité du modèle par validation croisée en\n",
    "cherchant l’erreur minimale sur une grille de valeurs du paramètre avec cv=5-\n",
    "fold cross validation et n_jobs=1 pour une exécution en parallèle utilisant\n",
    "tous les processeurs sauf 1. Attention, comme la validation croisée est aléatoire,\n",
    "deux exécutions successives ne donnent pas nécessairement le même\n",
    "résultat."
   ]
  },
  {
   "cell_type": "code",
   "execution_count": 370,
   "metadata": {},
   "outputs": [
    {
     "data": {
      "text/plain": [
       "4"
      ]
     },
     "execution_count": 370,
     "metadata": {},
     "output_type": "execute_result"
    }
   ],
   "source": [
    "# grille de valeurs\n",
    "param=[{\"n_neighbors\":list(range(1,10))}]\n",
    "knn= GridSearchCV(KNeighborsClassifier(),\n",
    "                  param,cv=5,n_jobs=-1)\n",
    "credit_knn=knn.fit(X_train, y_train)\n",
    "# paramètre optimal\n",
    "credit_knn.best_params_[\"n_neighbors\"]"
   ]
  },
  {
   "cell_type": "markdown",
   "metadata": {},
   "source": [
    "Le modèle est estimé avec la valeur \"optimale\" du paramètre."
   ]
  },
  {
   "cell_type": "code",
   "execution_count": 371,
   "metadata": {},
   "outputs": [
    {
     "name": "stdout",
     "output_type": "stream",
     "text": [
      "col_0           0   1\n",
      "incident_oui         \n",
      "0             950  12\n",
      "1             188  30\n"
     ]
    }
   ],
   "source": [
    "knn_optimal = KNeighborsClassifier(n_neighbors=credit_knn.best_params_[\"n_neighbors\"])\n",
    "credit_knn_optimal=knn_optimal.fit(X_train, y_train)\n",
    "# Estimation de l’erreur de prévision\n",
    "1-credit_knn_optimal.score(X_test,y_test)\n",
    "# Prévision\n",
    "y_chap = credit_knn_optimal.predict(X_test)\n",
    "# matrice de confusion\n",
    "table=pd.crosstab(y_test,y_chap)\n",
    "print(table)\n"
   ]
  },
  {
   "cell_type": "markdown",
   "metadata": {},
   "source": [
    "## La régression logistique"
   ]
  },
  {
   "cell_type": "markdown",
   "metadata": {},
   "source": [
    "Une version Lasso de la régression logistique est testée afin d’introduire\n",
    "la sélection automatique des variables."
   ]
  },
  {
   "cell_type": "code",
   "execution_count": 376,
   "metadata": {},
   "outputs": [
    {
     "data": {
      "text/plain": [
       "array([[-2.38061597e-05, -4.36224926e-06,  1.44347153e-06,\n",
       "        -1.08762288e-02,  4.19800536e-03,  6.76610903e-03,\n",
       "        -3.08618510e-02,  4.47038188e-03, -4.31660409e-03,\n",
       "        -1.71010920e-05, -6.95800694e-04, -1.67793029e-04,\n",
       "        -3.19253475e-04,  9.65948469e-05,  2.06531470e-04]])"
      ]
     },
     "execution_count": 376,
     "metadata": {},
     "output_type": "execute_result"
    }
   ],
   "source": [
    "logit = LogisticRegression(solver='liblinear')\n",
    "credit_logit=logit.fit(X_train, y_train)\n",
    "# Erreur\n",
    "credit_logit.score(X_test, y_test)\n",
    "# Coefficients\n",
    "credit_logit.coef_"
   ]
  },
  {
   "cell_type": "code",
   "execution_count": 377,
   "metadata": {},
   "outputs": [],
   "source": [
    "# grille de valeurs\n",
    "param=[{\"C\":[0.01,0.05,0.1,0.15,1,10]}]\n",
    "logit = GridSearchCV(LogisticRegression(solver='liblinear'),param,cv=5)\n",
    "credit_logit=logit.fit(X_train, y_train)"
   ]
  },
  {
   "cell_type": "code",
   "execution_count": 378,
   "metadata": {},
   "outputs": [
    {
     "data": {
      "text/plain": [
       "0.01"
      ]
     },
     "execution_count": 378,
     "metadata": {},
     "output_type": "execute_result"
    }
   ],
   "source": [
    "#parametre optimal\n",
    "credit_logit.best_params_[\"C\"]"
   ]
  },
  {
   "cell_type": "code",
   "execution_count": 379,
   "metadata": {},
   "outputs": [
    {
     "name": "stdout",
     "output_type": "stream",
     "text": [
      "[[-2.38072912e-05 -4.36253423e-06  1.44340291e-06 -1.08758802e-02\n",
      "   4.19823709e-03  6.76650686e-03 -3.08619726e-02  4.47064731e-03\n",
      "  -4.31508991e-03 -1.70702381e-05 -6.95826945e-04 -1.67766800e-04\n",
      "  -3.19268605e-04  9.66021011e-05  2.06541357e-04]] [-0.00076626]\n"
     ]
    }
   ],
   "source": [
    "#Utilisation de la valeur \"optimale\".\n",
    "logit_optimal = LogisticRegression(solver = 'liblinear', C=credit_logit.best_params_[\"C\"])\n",
    "credit_logit_optimal=logit_optimal.fit(X_train, y_train)\n",
    "#Erreur\n",
    "credit_logit_optimal.score(X_test, y_test)\n",
    "#coefficients\n",
    "print(credit_logit_optimal.coef_, credit_logit_optimal.intercept_)"
   ]
  },
  {
   "cell_type": "code",
   "execution_count": 380,
   "metadata": {},
   "outputs": [
    {
     "name": "stdout",
     "output_type": "stream",
     "text": [
      "[[950  12]\n",
      " [188  30]]\n",
      "[[950  12]\n",
      " [188  30]]\n"
     ]
    }
   ],
   "source": [
    "y_pred = credit_logit_optimal.predict(X_test) # prediction sur l'echantillon test\n",
    "# matrice de confusion\n",
    "# confrontation entre Y sur l'echantillon test et la prediction\n",
    "cm = metrics.confusion_matrix(y_test,y_chap)\n",
    "# ligne : observe ; colonne : prediction\n",
    "print(cm)\n",
    "cp = confusion_matrix(y_test,y_chap)\n",
    "print(cp)\n"
   ]
  },
  {
   "cell_type": "code",
   "execution_count": 381,
   "metadata": {},
   "outputs": [
    {
     "name": "stdout",
     "output_type": "stream",
     "text": [
      "0.8305084745762712\n",
      "0.1694915254237288\n"
     ]
    }
   ],
   "source": [
    "# cm = confusion_matrix(y_test, y_chap)\n",
    "# taux de bonne prediction\n",
    "succes = metrics.accuracy_score(y_test,y_chap)\n",
    "print(succes) # approx 0.83\n",
    "# taux d'erreur\n",
    "err = 1.0 - succes\n",
    "print(err) # approx 0.17"
   ]
  },
  {
   "cell_type": "markdown",
   "metadata": {},
   "source": [
    "## Forêts aléatoires"
   ]
  },
  {
   "cell_type": "code",
   "execution_count": 382,
   "metadata": {},
   "outputs": [
    {
     "name": "stdout",
     "output_type": "stream",
     "text": [
      "0.10275689223057649\n"
     ]
    },
    {
     "data": {
      "text/plain": [
       "0.09152542372881356"
      ]
     },
     "execution_count": 382,
     "metadata": {},
     "output_type": "execute_result"
    }
   ],
   "source": [
    "# définition des paramètres\n",
    "forest = RandomForestClassifier(n_estimators=500,\n",
    "                                criterion='gini', max_depth=None,\n",
    "                                min_samples_split=2, min_samples_leaf=1,\n",
    "                                max_features='auto', max_leaf_nodes=None,\n",
    "                                bootstrap=True, oob_score=True)\n",
    "# apprentissage\n",
    "forest = forest.fit(X_train,y_train)\n",
    "print(1-forest.oob_score_)\n",
    "# erreur de prévision sur le test\n",
    "1-forest.score(X_test,y_test)"
   ]
  },
  {
   "cell_type": "code",
   "execution_count": 383,
   "metadata": {},
   "outputs": [
    {
     "data": {
      "text/plain": [
       "3"
      ]
     },
     "execution_count": 383,
     "metadata": {},
     "output_type": "execute_result"
    }
   ],
   "source": [
    "#Optimisation du paramètre max_features par validation croisée\n",
    "param=[{\"max_features\":list(range(2,15))}]\n",
    "credit_rf= GridSearchCV(RandomForestClassifier(n_estimators=100),param,cv=5,n_jobs=-1)\n",
    "credit_rf=credit_rf.fit(X_train, y_train)\n",
    "# paramètre optimal\n",
    "credit_rf.best_params_[\"max_features\"]"
   ]
  },
  {
   "cell_type": "code",
   "execution_count": 384,
   "metadata": {},
   "outputs": [
    {
     "name": "stdout",
     "output_type": "stream",
     "text": [
      "0.1006683375104428\n",
      "col_0           0    1\n",
      "incident_oui          \n",
      "0             941   21\n",
      "1              81  137\n"
     ]
    }
   ],
   "source": [
    "#Utilisation de la valeur \"optimale\".\n",
    "forest_optimal = RandomForestClassifier(n_estimators=500,\n",
    "                                criterion= 'gini', max_depth=None,\n",
    "                                min_samples_split=2, min_samples_leaf=1,\n",
    "                                max_features=credit_rf.best_params_[\"max_features\"], max_leaf_nodes=None,\n",
    "                                bootstrap=True, oob_score=True)\n",
    "# apprentissage\n",
    "credit_forest_optimal = forest_optimal.fit(X_train,y_train)\n",
    "print(1-credit_forest_optimal.oob_score_)\n",
    "# erreur de prévision sur le test\n",
    "1-credit_forest_optimal.score(X_test,y_test)\n",
    "# prévision\n",
    "y_chap = credit_forest_optimal.predict(X_test)\n",
    "# matrice de confusion\n",
    "table=pd.crosstab(y_test,y_chap)\n",
    "print(table)"
   ]
  },
  {
   "cell_type": "markdown",
   "metadata": {},
   "source": [
    "## Arbres de décision"
   ]
  },
  {
   "cell_type": "code",
   "execution_count": 385,
   "metadata": {},
   "outputs": [
    {
     "name": "stdout",
     "output_type": "stream",
     "text": [
      "0.8152542372881356\n",
      "0.8364406779661017\n",
      "0.864406779661017\n",
      "0.8661016949152542\n",
      "0.8796610169491526\n",
      "0.8779661016949153\n",
      "0.8754237288135593\n",
      "0.8737288135593221\n",
      "0.8694915254237288\n"
     ]
    }
   ],
   "source": [
    "from sklearn import tree\n",
    "for mdepth in [1, 2, 3, 4, 5, 6, 7, 8, 9]:\n",
    "    clf = tree.DecisionTreeClassifier(max_depth=mdepth)\n",
    "    clf = clf.fit(X_train, y_train)\n",
    "    print(clf.score(X_test, y_test))"
   ]
  },
  {
   "cell_type": "code",
   "execution_count": 386,
   "metadata": {},
   "outputs": [
    {
     "data": {
      "text/plain": [
       "0.1466101694915254"
      ]
     },
     "execution_count": 386,
     "metadata": {},
     "output_type": "execute_result"
    }
   ],
   "source": [
    "tree=DecisionTreeClassifier()\n",
    "credit_tree=tree.fit(X_train, y_train)\n",
    "# Estimation de l’erreur de prévision\n",
    "1-credit_tree.score(X_test,y_test)"
   ]
  },
  {
   "cell_type": "code",
   "execution_count": 387,
   "metadata": {},
   "outputs": [
    {
     "data": {
      "text/plain": [
       "8"
      ]
     },
     "execution_count": 387,
     "metadata": {},
     "output_type": "execute_result"
    }
   ],
   "source": [
    "param=[{\"max_depth\":list(range(2,10))}]\n",
    "credit_tree= GridSearchCV(DecisionTreeClassifier(),\n",
    "                          param,cv=5,n_jobs=-1)\n",
    "credit_opt=credit_tree.fit(X_train, y_train)\n",
    "# paramètre optimal\n",
    "credit_opt.best_params_[\"max_depth\"]"
   ]
  },
  {
   "cell_type": "code",
   "execution_count": 388,
   "metadata": {},
   "outputs": [
    {
     "data": {
      "text/plain": [
       "0.1364406779661017"
      ]
     },
     "execution_count": 388,
     "metadata": {},
     "output_type": "execute_result"
    }
   ],
   "source": [
    "#utilisation du paramètre optimal max_depth\n",
    "tree_optimal=DecisionTreeClassifier(max_depth=credit_opt.best_params_[\"max_depth\"])\n",
    "credit_tree_optimal=tree_optimal.fit(X_train, y_train)\n",
    "# Estimation de l’erreur de prévision\n",
    "1-credit_tree_optimal.score(X_test,y_test)\n",
    "# Estimation de l’erreur de prévision \n",
    "# sur l’échantillon test\n",
    "1-credit_tree_optimal.score(X_test,y_test)"
   ]
  },
  {
   "cell_type": "code",
   "execution_count": 389,
   "metadata": {},
   "outputs": [
    {
     "name": "stdout",
     "output_type": "stream",
     "text": [
      "col_0           0    1\n",
      "incident_oui          \n",
      "0             898   64\n",
      "1              97  121\n"
     ]
    }
   ],
   "source": [
    "# prévision de l’échantillon test\n",
    "y_chap = credit_tree_optimal.predict(X_test)\n",
    "# matrice de confusion\n",
    "table=pd.crosstab(y_test,y_chap)\n",
    "print(table)"
   ]
  },
  {
   "cell_type": "code",
   "execution_count": 391,
   "metadata": {},
   "outputs": [
    {
     "data": {
      "text/plain": [
       "True"
      ]
     },
     "execution_count": 391,
     "metadata": {},
     "output_type": "execute_result"
    }
   ],
   "source": [
    "from sklearn.tree import export_graphviz\n",
    "import pydotplus\n",
    "dot_data = export_graphviz(credit_tree_optimal, out_file=None)\n",
    "graph = pydotplus.graph_from_dot_data(dot_data)\n",
    "graph.write_pdf(\"credit_scoring_arbre.pdf\")\n",
    "graph.write_png(\"credit_scoring_arbre.png\")"
   ]
  },
  {
   "cell_type": "markdown",
   "metadata": {},
   "source": [
    "### ALL\n",
    "#### on compare la précision de tous les modèles afin de savoir le modèle qu'on utilisera pour avoir le score"
   ]
  },
  {
   "cell_type": "code",
   "execution_count": 392,
   "metadata": {},
   "outputs": [],
   "source": [
    "from sklearn.metrics import classification_report\n",
    "from sklearn.metrics import confusion_matrix\n",
    "from sklearn.metrics import accuracy_score\n",
    "from sklearn.linear_model import LogisticRegression\n",
    "from sklearn.tree import DecisionTreeClassifier\n",
    "from sklearn.neighbors import KNeighborsClassifier\n",
    "from sklearn.discriminant_analysis import LinearDiscriminantAnalysis\n",
    "from sklearn.naive_bayes import GaussianNB\n",
    "from sklearn.ensemble import RandomForestClassifier\n",
    "from sklearn.svm import SVC\n",
    "from sklearn.model_selection import cross_val_score\n",
    "from sklearn.model_selection import KFold\n",
    "\n",
    "scoring = 'accuracy'\n",
    "seed = 7\n",
    "models = []\n",
    "models.append(('LR', logit_optimal))\n",
    "models.append(('LDA', LinearDiscriminantAnalysis()))\n",
    "models.append(('RFC', forest_optimal))\n",
    "models.append(('KNN', knn_optimal))\n",
    "models.append(('CART', tree_optimal))\n",
    "models.append(('NB', GaussianNB()))\n",
    "models.append(('SVM', SVC()))\n"
   ]
  },
  {
   "cell_type": "markdown",
   "metadata": {},
   "source": [
    "Évaluons les performances des estimateurs"
   ]
  },
  {
   "cell_type": "code",
   "execution_count": 393,
   "metadata": {},
   "outputs": [
    {
     "name": "stdout",
     "output_type": "stream",
     "text": [
      "LR: 0.788213 (0.022163)\n",
      "LDA: 0.823309 (0.025704)\n",
      "RFC: 0.897238 (0.013777)\n",
      "KNN: 0.786956 (0.019888)\n",
      "CART: 0.865921 (0.029262)\n",
      "NB: 0.800331 (0.027596)\n",
      "SVM: 0.786124 (0.023154)\n"
     ]
    },
    {
     "data": {
      "image/png": "[encoded data removed]",
      "text/plain": [
       "<Figure size 432x288 with 1 Axes>"
      ]
     },
     "metadata": {
      "needs_background": "light"
     },
     "output_type": "display_data"
    }
   ],
   "source": [
    "results = []\n",
    "names = []\n",
    "for name, model in models:\n",
    "    kfold = KFold(n_splits=10)\n",
    "    cv_results = cross_val_score(model, X_train, y_train, cv=kfold, scoring=scoring)\n",
    "    results.append(cv_results)\n",
    "    names.append(name)\n",
    "    msg = \"%s: %f (%f)\" % (name, cv_results.mean(), cv_results.std())\n",
    "    print(msg)\n",
    "\n",
    "# boxplot algorithm comparison\n",
    "fig = plt.figure()\n",
    "fig.suptitle('Algorithm Comparison')\n",
    "ax = fig.add_subplot(111)\n",
    "plt.boxplot(results)\n",
    "ax.set_xticklabels(names)\n",
    "plt.show()"
   ]
  },
  {
   "cell_type": "markdown",
   "metadata": {},
   "source": [
    "Comme on peut le voir, Random Forest Classifier a la meilleure performance donc c'est notre choix pour appliquer avec les données traininig et tester nos données pour faire des prévisions."
   ]
  },
  {
   "cell_type": "markdown",
   "metadata": {},
   "source": [
    "### Elaboration du score avec l'algorithme de Foret aléatoire et ses paramètres optimal"
   ]
  },
  {
   "cell_type": "markdown",
   "metadata": {},
   "source": [
    "Utilisation de la valeur optimale"
   ]
  },
  {
   "cell_type": "code",
   "execution_count": 394,
   "metadata": {},
   "outputs": [
    {
     "name": "stdout",
     "output_type": "stream",
     "text": [
      "0.1006683375104428\n",
      "col_0           0    1\n",
      "incident_oui          \n",
      "0             941   21\n",
      "1              81  137\n"
     ]
    }
   ],
   "source": [
    "print(1-credit_forest_optimal.oob_score_)\n",
    "# erreur de prévision sur le test\n",
    "1-credit_forest_optimal.score(X_test,y_test)\n",
    "# prévision\n",
    "y_chap = credit_forest_optimal.predict(X_test)\n",
    "# matrice de confusion\n",
    "table=pd.crosstab(y_test,y_chap)\n",
    "print(table)"
   ]
  },
  {
   "cell_type": "markdown",
   "metadata": {},
   "source": [
    "Et pour la dernière étape, nous comparons nos prédictions à la vérité."
   ]
  },
  {
   "cell_type": "code",
   "execution_count": 395,
   "metadata": {},
   "outputs": [
    {
     "name": "stdout",
     "output_type": "stream",
     "text": [
      "0.9135593220338983\n",
      "[[941  21]\n",
      " [ 81 137]]\n",
      "              precision    recall  f1-score   support\n",
      "\n",
      "           0       0.92      0.98      0.95       962\n",
      "           1       0.87      0.63      0.73       218\n",
      "\n",
      "    accuracy                           0.91      1180\n",
      "   macro avg       0.89      0.80      0.84      1180\n",
      "weighted avg       0.91      0.91      0.91      1180\n",
      "\n"
     ]
    }
   ],
   "source": [
    "print(accuracy_score(y_test, y_chap))\n",
    "print(confusion_matrix(y_test, y_chap))\n",
    "print(classification_report(y_test, y_chap))"
   ]
  },
  {
   "cell_type": "markdown",
   "metadata": {},
   "source": [
    "Nous obtenons la précision de l'algorithme RandomForestClassifier sur nos valeurs. Les éléments pertinents ou les vrais positifs et les faux négatifs sont les bonnes prévisions."
   ]
  },
  {
   "cell_type": "code",
   "execution_count": 396,
   "metadata": {},
   "outputs": [
    {
     "data": {
      "text/html": [
       "<div>\n",
       "<style scoped>\n",
       "    .dataframe tbody tr th:only-of-type {\n",
       "        vertical-align: middle;\n",
       "    }\n",
       "\n",
       "    .dataframe tbody tr th {\n",
       "        vertical-align: top;\n",
       "    }\n",
       "\n",
       "    .dataframe thead th {\n",
       "        text-align: right;\n",
       "    }\n",
       "</style>\n",
       "<table border=\"1\" class=\"dataframe\">\n",
       "  <thead>\n",
       "    <tr style=\"text-align: right;\">\n",
       "      <th></th>\n",
       "      <th>Variable</th>\n",
       "      <th>Importance</th>\n",
       "    </tr>\n",
       "  </thead>\n",
       "  <tbody>\n",
       "    <tr>\n",
       "      <td>8</td>\n",
       "      <td>ratio</td>\n",
       "      <td>0.205380</td>\n",
       "    </tr>\n",
       "    <tr>\n",
       "      <td>6</td>\n",
       "      <td>agecredit</td>\n",
       "      <td>0.122053</td>\n",
       "    </tr>\n",
       "    <tr>\n",
       "      <td>0</td>\n",
       "      <td>pret</td>\n",
       "      <td>0.106121</td>\n",
       "    </tr>\n",
       "    <tr>\n",
       "      <td>5</td>\n",
       "      <td>nblitige</td>\n",
       "      <td>0.105813</td>\n",
       "    </tr>\n",
       "    <tr>\n",
       "      <td>2</td>\n",
       "      <td>propriete</td>\n",
       "      <td>0.105800</td>\n",
       "    </tr>\n",
       "    <tr>\n",
       "      <td>1</td>\n",
       "      <td>hypotheque</td>\n",
       "      <td>0.095441</td>\n",
       "    </tr>\n",
       "    <tr>\n",
       "      <td>3</td>\n",
       "      <td>experience</td>\n",
       "      <td>0.075903</td>\n",
       "    </tr>\n",
       "    <tr>\n",
       "      <td>4</td>\n",
       "      <td>nbreport</td>\n",
       "      <td>0.069423</td>\n",
       "    </tr>\n",
       "    <tr>\n",
       "      <td>7</td>\n",
       "      <td>nbcredit</td>\n",
       "      <td>0.053470</td>\n",
       "    </tr>\n",
       "    <tr>\n",
       "      <td>9</td>\n",
       "      <td>motif_HomeImp</td>\n",
       "      <td>0.015876</td>\n",
       "    </tr>\n",
       "    <tr>\n",
       "      <td>11</td>\n",
       "      <td>profession_Other</td>\n",
       "      <td>0.013288</td>\n",
       "    </tr>\n",
       "    <tr>\n",
       "      <td>10</td>\n",
       "      <td>profession_Office</td>\n",
       "      <td>0.011252</td>\n",
       "    </tr>\n",
       "    <tr>\n",
       "      <td>12</td>\n",
       "      <td>profession_ProfEx</td>\n",
       "      <td>0.010472</td>\n",
       "    </tr>\n",
       "    <tr>\n",
       "      <td>13</td>\n",
       "      <td>profession_Sales</td>\n",
       "      <td>0.005223</td>\n",
       "    </tr>\n",
       "    <tr>\n",
       "      <td>14</td>\n",
       "      <td>profession_Self</td>\n",
       "      <td>0.004486</td>\n",
       "    </tr>\n",
       "  </tbody>\n",
       "</table>\n",
       "</div>"
      ],
      "text/plain": [
       "             Variable  Importance\n",
       "8               ratio    0.205380\n",
       "6           agecredit    0.122053\n",
       "0                pret    0.106121\n",
       "5            nblitige    0.105813\n",
       "2           propriete    0.105800\n",
       "1          hypotheque    0.095441\n",
       "3          experience    0.075903\n",
       "4            nbreport    0.069423\n",
       "7            nbcredit    0.053470\n",
       "9       motif_HomeImp    0.015876\n",
       "11   profession_Other    0.013288\n",
       "10  profession_Office    0.011252\n",
       "12  profession_ProfEx    0.010472\n",
       "13   profession_Sales    0.005223\n",
       "14    profession_Self    0.004486"
      ]
     },
     "execution_count": 396,
     "metadata": {},
     "output_type": "execute_result"
    }
   ],
   "source": [
    "#from sklearn.ensemble import RandomForestClassifier\n",
    "#model = RandomForestClassifier()\n",
    "credit_forest_optimal.fit(X, y)\n",
    "pd.DataFrame({'Variable':X.columns,\n",
    "              'Importance':credit_forest_optimal.feature_importances_}).sort_values('Importance', ascending=False)"
   ]
  },
  {
   "cell_type": "code",
   "execution_count": 397,
   "metadata": {},
   "outputs": [
    {
     "name": "stdout",
     "output_type": "stream",
     "text": [
      "aleatoire: ROC AUC=0.500\n",
      "Random Forest: ROC AUC=1.000\n"
     ]
    },
    {
     "data": {
      "image/png": "[encoded data removed]",
      "text/plain": [
       "<Figure size 432x288 with 1 Axes>"
      ]
     },
     "metadata": {
      "needs_background": "light"
     },
     "output_type": "display_data"
    }
   ],
   "source": [
    "from sklearn.metrics import roc_auc_score\n",
    "from matplotlib import pyplot\n",
    "# generate a no skill prediction (majority class)\n",
    "ns_probs = [0 for _ in range(len(y_test))]\n",
    "# predict probabilities\n",
    "y_predit = forest_optimal.predict_proba(X_test)\n",
    "# keep probabilities for the positive outcome only\n",
    "y_predit = y_predit[:, 1]\n",
    "# calculate scores\n",
    "ns_auc = roc_auc_score(y_test, ns_probs)\n",
    "lr_auc = roc_auc_score(y_test, y_predit)\n",
    "# summarize scores\n",
    "print('aleatoire: ROC AUC=%.3f' % (ns_auc))\n",
    "print('Random Forest: ROC AUC=%.3f' % (lr_auc))\n",
    "# calculate roc curves\n",
    "ns_fpr, ns_tpr, _ = roc_curve(y_test, ns_probs)\n",
    "lr_fpr, lr_tpr, _ = roc_curve(y_test, y_predit)\n",
    "# plot the roc curve for the model\n",
    "pyplot.plot(ns_fpr, ns_tpr, linestyle='--', label='aleatoire')\n",
    "pyplot.plot(lr_fpr, lr_tpr, marker='.', label='Random Forest')\n",
    "# axis labels\n",
    "pyplot.xlabel('Faux Positif Rate')\n",
    "pyplot.ylabel('Vrai Positif Rate')\n",
    "# show the legend\n",
    "pyplot.legend()\n",
    "# show the plot\n",
    "pyplot.show()"
   ]
  },
  {
   "cell_type": "markdown",
   "metadata": {},
   "source": [
    "### *Le modèle est parait !!!!*"
   ]
  },
  {
   "cell_type": "markdown",
   "metadata": {},
   "source": [
    "### SCORE"
   ]
  },
  {
   "cell_type": "code",
   "execution_count": 399,
   "metadata": {},
   "outputs": [],
   "source": [
    "#calcul des probabilites d'affectation sur l'echantillon test\n",
    "probabilite = forest_optimal.predict_proba(X_test)\n",
    "#score de \"Oui\"\n",
    "score = probabilite[:,1]"
   ]
  },
  {
   "cell_type": "code",
   "execution_count": 400,
   "metadata": {},
   "outputs": [],
   "source": [
    "moyenne=score.mean()\n",
    "maximum=score.max()\n",
    "minimum=score.min()\n",
    "grille100=100*((score-minimum)/(maximum-minimum))"
   ]
  },
  {
   "cell_type": "code",
   "execution_count": 401,
   "metadata": {},
   "outputs": [],
   "source": [
    "data_y_test = pd.DataFrame(np.array(y_test))\n",
    "data_X_test = pd.DataFrame(np.array(X_test))\n",
    "#on obtient la table avec les X et Y test\n",
    "data_test = pd.concat([data_X_test, data_y_test], axis=1)"
   ]
  },
  {
   "cell_type": "code",
   "execution_count": 402,
   "metadata": {},
   "outputs": [
    {
     "data": {
      "text/html": [
       "<div>\n",
       "<style scoped>\n",
       "    .dataframe tbody tr th:only-of-type {\n",
       "        vertical-align: middle;\n",
       "    }\n",
       "\n",
       "    .dataframe tbody tr th {\n",
       "        vertical-align: top;\n",
       "    }\n",
       "\n",
       "    .dataframe thead th {\n",
       "        text-align: right;\n",
       "    }\n",
       "</style>\n",
       "<table border=\"1\" class=\"dataframe\">\n",
       "  <thead>\n",
       "    <tr style=\"text-align: right;\">\n",
       "      <th></th>\n",
       "      <th>pret</th>\n",
       "      <th>hypotheque</th>\n",
       "      <th>propriete</th>\n",
       "      <th>experience</th>\n",
       "      <th>nbreport</th>\n",
       "      <th>nblitige</th>\n",
       "      <th>agecredit</th>\n",
       "      <th>nbcredit</th>\n",
       "      <th>ratio</th>\n",
       "      <th>motif_HomeImp</th>\n",
       "      <th>profession_Office</th>\n",
       "      <th>profession_Other</th>\n",
       "      <th>profession_ProfEx</th>\n",
       "      <th>profession_Sales</th>\n",
       "      <th>profession_Self</th>\n",
       "      <th>incident_oui</th>\n",
       "    </tr>\n",
       "  </thead>\n",
       "  <tbody>\n",
       "    <tr>\n",
       "      <td>0</td>\n",
       "      <td>11900.0</td>\n",
       "      <td>83877.0</td>\n",
       "      <td>208924.0</td>\n",
       "      <td>15.0</td>\n",
       "      <td>0.0</td>\n",
       "      <td>0.0</td>\n",
       "      <td>1.062500</td>\n",
       "      <td>1.185911</td>\n",
       "      <td>18.250000</td>\n",
       "      <td>1.0</td>\n",
       "      <td>0.0</td>\n",
       "      <td>0.0</td>\n",
       "      <td>0.0</td>\n",
       "      <td>0.0</td>\n",
       "      <td>1.0</td>\n",
       "      <td>0</td>\n",
       "    </tr>\n",
       "    <tr>\n",
       "      <td>1</td>\n",
       "      <td>13000.0</td>\n",
       "      <td>41193.0</td>\n",
       "      <td>58000.0</td>\n",
       "      <td>18.0</td>\n",
       "      <td>3.0</td>\n",
       "      <td>2.0</td>\n",
       "      <td>5.577500</td>\n",
       "      <td>4.000000</td>\n",
       "      <td>33.630728</td>\n",
       "      <td>0.0</td>\n",
       "      <td>0.0</td>\n",
       "      <td>1.0</td>\n",
       "      <td>0.0</td>\n",
       "      <td>0.0</td>\n",
       "      <td>0.0</td>\n",
       "      <td>1</td>\n",
       "    </tr>\n",
       "    <tr>\n",
       "      <td>2</td>\n",
       "      <td>18000.0</td>\n",
       "      <td>39005.0</td>\n",
       "      <td>60000.0</td>\n",
       "      <td>10.0</td>\n",
       "      <td>2.0</td>\n",
       "      <td>0.0</td>\n",
       "      <td>9.385833</td>\n",
       "      <td>5.000000</td>\n",
       "      <td>33.630728</td>\n",
       "      <td>0.0</td>\n",
       "      <td>0.0</td>\n",
       "      <td>1.0</td>\n",
       "      <td>0.0</td>\n",
       "      <td>0.0</td>\n",
       "      <td>0.0</td>\n",
       "      <td>1</td>\n",
       "    </tr>\n",
       "    <tr>\n",
       "      <td>3</td>\n",
       "      <td>22100.0</td>\n",
       "      <td>95351.0</td>\n",
       "      <td>117905.0</td>\n",
       "      <td>25.0</td>\n",
       "      <td>0.0</td>\n",
       "      <td>0.0</td>\n",
       "      <td>19.479167</td>\n",
       "      <td>1.000000</td>\n",
       "      <td>41.524000</td>\n",
       "      <td>0.0</td>\n",
       "      <td>0.0</td>\n",
       "      <td>1.0</td>\n",
       "      <td>0.0</td>\n",
       "      <td>0.0</td>\n",
       "      <td>0.0</td>\n",
       "      <td>0</td>\n",
       "    </tr>\n",
       "    <tr>\n",
       "      <td>4</td>\n",
       "      <td>6200.0</td>\n",
       "      <td>45356.0</td>\n",
       "      <td>82054.0</td>\n",
       "      <td>2.0</td>\n",
       "      <td>0.0</td>\n",
       "      <td>0.0</td>\n",
       "      <td>16.777500</td>\n",
       "      <td>4.000000</td>\n",
       "      <td>29.662000</td>\n",
       "      <td>0.0</td>\n",
       "      <td>0.0</td>\n",
       "      <td>1.0</td>\n",
       "      <td>0.0</td>\n",
       "      <td>0.0</td>\n",
       "      <td>0.0</td>\n",
       "      <td>0</td>\n",
       "    </tr>\n",
       "  </tbody>\n",
       "</table>\n",
       "</div>"
      ],
      "text/plain": [
       "      pret  hypotheque  propriete  experience  nbreport  nblitige  agecredit  \\\n",
       "0  11900.0     83877.0   208924.0        15.0       0.0       0.0   1.062500   \n",
       "1  13000.0     41193.0    58000.0        18.0       3.0       2.0   5.577500   \n",
       "2  18000.0     39005.0    60000.0        10.0       2.0       0.0   9.385833   \n",
       "3  22100.0     95351.0   117905.0        25.0       0.0       0.0  19.479167   \n",
       "4   6200.0     45356.0    82054.0         2.0       0.0       0.0  16.777500   \n",
       "\n",
       "   nbcredit      ratio  motif_HomeImp  profession_Office  profession_Other  \\\n",
       "0  1.185911  18.250000            1.0                0.0               0.0   \n",
       "1  4.000000  33.630728            0.0                0.0               1.0   \n",
       "2  5.000000  33.630728            0.0                0.0               1.0   \n",
       "3  1.000000  41.524000            0.0                0.0               1.0   \n",
       "4  4.000000  29.662000            0.0                0.0               1.0   \n",
       "\n",
       "   profession_ProfEx  profession_Sales  profession_Self  incident_oui  \n",
       "0                0.0               0.0              1.0             0  \n",
       "1                0.0               0.0              0.0             1  \n",
       "2                0.0               0.0              0.0             1  \n",
       "3                0.0               0.0              0.0             0  \n",
       "4                0.0               0.0              0.0             0  "
      ]
     },
     "execution_count": 402,
     "metadata": {},
     "output_type": "execute_result"
    }
   ],
   "source": [
    "data_test.columns = ['pret', 'hypotheque', 'propriete', 'experience', 'nbreport', 'nblitige',\n",
    "       'agecredit', 'nbcredit', 'ratio', 'motif_HomeImp', 'profession_Office',\n",
    "       'profession_Other', 'profession_ProfEx', 'profession_Sales',\n",
    "       'profession_Self', 'incident_oui']\n",
    "data_test.head()"
   ]
  },
  {
   "cell_type": "code",
   "execution_count": 403,
   "metadata": {},
   "outputs": [],
   "source": [
    "#on ajoute la colonne score (c'est à dire les probabilités)\n",
    "data_test['score']=score\n",
    "#on ajoute la variable grille100\n",
    "data_test['grille100']=grille100\n",
    "# on tri\n",
    "data_test_sorted = data_test.sort_values(\"grille100\", ascending=True)\n",
    "# creation d'une variable rang qui donne le rank \n",
    "data_test_sorted[\"Rang\"] = data_test_sorted[\"grille100\"].rank()"
   ]
  },
  {
   "cell_type": "code",
   "execution_count": 404,
   "metadata": {},
   "outputs": [
    {
     "data": {
      "text/html": [
       "<div>\n",
       "<style scoped>\n",
       "    .dataframe tbody tr th:only-of-type {\n",
       "        vertical-align: middle;\n",
       "    }\n",
       "\n",
       "    .dataframe tbody tr th {\n",
       "        vertical-align: top;\n",
       "    }\n",
       "\n",
       "    .dataframe thead th {\n",
       "        text-align: right;\n",
       "    }\n",
       "</style>\n",
       "<table border=\"1\" class=\"dataframe\">\n",
       "  <thead>\n",
       "    <tr style=\"text-align: right;\">\n",
       "      <th></th>\n",
       "      <th>pret</th>\n",
       "      <th>hypotheque</th>\n",
       "      <th>propriete</th>\n",
       "      <th>experience</th>\n",
       "      <th>nbreport</th>\n",
       "      <th>nblitige</th>\n",
       "      <th>agecredit</th>\n",
       "      <th>nbcredit</th>\n",
       "      <th>ratio</th>\n",
       "      <th>motif_HomeImp</th>\n",
       "      <th>profession_Office</th>\n",
       "      <th>profession_Other</th>\n",
       "      <th>profession_ProfEx</th>\n",
       "      <th>profession_Sales</th>\n",
       "      <th>profession_Self</th>\n",
       "      <th>incident_oui</th>\n",
       "      <th>score</th>\n",
       "      <th>grille100</th>\n",
       "      <th>Rang</th>\n",
       "    </tr>\n",
       "  </thead>\n",
       "  <tbody>\n",
       "    <tr>\n",
       "      <td>942</td>\n",
       "      <td>22800.0</td>\n",
       "      <td>74081.562484</td>\n",
       "      <td>146840.0</td>\n",
       "      <td>8.962072</td>\n",
       "      <td>0.260579</td>\n",
       "      <td>0.454658</td>\n",
       "      <td>15.063853</td>\n",
       "      <td>1.185911</td>\n",
       "      <td>14.800</td>\n",
       "      <td>0.0</td>\n",
       "      <td>0.0</td>\n",
       "      <td>1.0</td>\n",
       "      <td>0.0</td>\n",
       "      <td>0.0</td>\n",
       "      <td>0.0</td>\n",
       "      <td>0</td>\n",
       "      <td>0.0</td>\n",
       "      <td>0.0</td>\n",
       "      <td>29.0</td>\n",
       "    </tr>\n",
       "    <tr>\n",
       "      <td>272</td>\n",
       "      <td>24100.0</td>\n",
       "      <td>104442.000000</td>\n",
       "      <td>161366.0</td>\n",
       "      <td>14.000000</td>\n",
       "      <td>0.000000</td>\n",
       "      <td>0.000000</td>\n",
       "      <td>16.303333</td>\n",
       "      <td>0.000000</td>\n",
       "      <td>34.541</td>\n",
       "      <td>0.0</td>\n",
       "      <td>0.0</td>\n",
       "      <td>0.0</td>\n",
       "      <td>0.0</td>\n",
       "      <td>0.0</td>\n",
       "      <td>0.0</td>\n",
       "      <td>0</td>\n",
       "      <td>0.0</td>\n",
       "      <td>0.0</td>\n",
       "      <td>29.0</td>\n",
       "    </tr>\n",
       "    <tr>\n",
       "      <td>712</td>\n",
       "      <td>21200.0</td>\n",
       "      <td>63093.000000</td>\n",
       "      <td>101789.0</td>\n",
       "      <td>18.000000</td>\n",
       "      <td>0.000000</td>\n",
       "      <td>0.000000</td>\n",
       "      <td>51.955000</td>\n",
       "      <td>1.000000</td>\n",
       "      <td>19.415</td>\n",
       "      <td>1.0</td>\n",
       "      <td>0.0</td>\n",
       "      <td>0.0</td>\n",
       "      <td>1.0</td>\n",
       "      <td>0.0</td>\n",
       "      <td>0.0</td>\n",
       "      <td>0</td>\n",
       "      <td>0.0</td>\n",
       "      <td>0.0</td>\n",
       "      <td>29.0</td>\n",
       "    </tr>\n",
       "    <tr>\n",
       "      <td>241</td>\n",
       "      <td>19300.0</td>\n",
       "      <td>146465.000000</td>\n",
       "      <td>192854.0</td>\n",
       "      <td>13.000000</td>\n",
       "      <td>0.260579</td>\n",
       "      <td>0.454658</td>\n",
       "      <td>9.220833</td>\n",
       "      <td>1.000000</td>\n",
       "      <td>29.976</td>\n",
       "      <td>0.0</td>\n",
       "      <td>0.0</td>\n",
       "      <td>0.0</td>\n",
       "      <td>1.0</td>\n",
       "      <td>0.0</td>\n",
       "      <td>0.0</td>\n",
       "      <td>0</td>\n",
       "      <td>0.0</td>\n",
       "      <td>0.0</td>\n",
       "      <td>29.0</td>\n",
       "    </tr>\n",
       "    <tr>\n",
       "      <td>384</td>\n",
       "      <td>21100.0</td>\n",
       "      <td>81389.000000</td>\n",
       "      <td>123842.0</td>\n",
       "      <td>9.000000</td>\n",
       "      <td>0.000000</td>\n",
       "      <td>0.000000</td>\n",
       "      <td>23.754167</td>\n",
       "      <td>1.000000</td>\n",
       "      <td>37.139</td>\n",
       "      <td>0.0</td>\n",
       "      <td>0.0</td>\n",
       "      <td>1.0</td>\n",
       "      <td>0.0</td>\n",
       "      <td>0.0</td>\n",
       "      <td>0.0</td>\n",
       "      <td>0</td>\n",
       "      <td>0.0</td>\n",
       "      <td>0.0</td>\n",
       "      <td>29.0</td>\n",
       "    </tr>\n",
       "  </tbody>\n",
       "</table>\n",
       "</div>"
      ],
      "text/plain": [
       "        pret     hypotheque  propriete  experience  nbreport  nblitige  \\\n",
       "942  22800.0   74081.562484   146840.0    8.962072  0.260579  0.454658   \n",
       "272  24100.0  104442.000000   161366.0   14.000000  0.000000  0.000000   \n",
       "712  21200.0   63093.000000   101789.0   18.000000  0.000000  0.000000   \n",
       "241  19300.0  146465.000000   192854.0   13.000000  0.260579  0.454658   \n",
       "384  21100.0   81389.000000   123842.0    9.000000  0.000000  0.000000   \n",
       "\n",
       "     agecredit  nbcredit   ratio  motif_HomeImp  profession_Office  \\\n",
       "942  15.063853  1.185911  14.800            0.0                0.0   \n",
       "272  16.303333  0.000000  34.541            0.0                0.0   \n",
       "712  51.955000  1.000000  19.415            1.0                0.0   \n",
       "241   9.220833  1.000000  29.976            0.0                0.0   \n",
       "384  23.754167  1.000000  37.139            0.0                0.0   \n",
       "\n",
       "     profession_Other  profession_ProfEx  profession_Sales  profession_Self  \\\n",
       "942               1.0                0.0               0.0              0.0   \n",
       "272               0.0                0.0               0.0              0.0   \n",
       "712               0.0                1.0               0.0              0.0   \n",
       "241               0.0                1.0               0.0              0.0   \n",
       "384               1.0                0.0               0.0              0.0   \n",
       "\n",
       "     incident_oui  score  grille100  Rang  \n",
       "942             0    0.0        0.0  29.0  \n",
       "272             0    0.0        0.0  29.0  \n",
       "712             0    0.0        0.0  29.0  \n",
       "241             0    0.0        0.0  29.0  \n",
       "384             0    0.0        0.0  29.0  "
      ]
     },
     "execution_count": 404,
     "metadata": {},
     "output_type": "execute_result"
    }
   ],
   "source": [
    "data_test_sorted.head()"
   ]
  },
  {
   "cell_type": "code",
   "execution_count": 405,
   "metadata": {},
   "outputs": [
    {
     "data": {
      "text/plain": [
       "29.0"
      ]
     },
     "execution_count": 405,
     "metadata": {},
     "output_type": "execute_result"
    }
   ],
   "source": [
    "data_test_sorted['Rang'].min()\n",
    "#il y a donc 29 personne qui sont de rang 1"
   ]
  },
  {
   "cell_type": "markdown",
   "metadata": {},
   "source": [
    "### Partition du score"
   ]
  },
  {
   "cell_type": "code",
   "execution_count": 406,
   "metadata": {},
   "outputs": [],
   "source": [
    "def conditions(s):\n",
    "    if (s['score'] > 0.6666) :\n",
    "        return \"très risqué\"\n",
    "    if (0.3333 < s['score'] <= 0.6666) :\n",
    "        return \"Plus ou moins risqué\"\n",
    "    if (s['score'] <= 0.3333):\n",
    "        return \"peu risqué\"\n",
    "data_test_sorted['Class'] = data_test_sorted.apply(conditions, axis=1)"
   ]
  },
  {
   "cell_type": "code",
   "execution_count": 407,
   "metadata": {},
   "outputs": [
    {
     "data": {
      "text/plain": [
       "peu risqué              962\n",
       "très risqué             214\n",
       "Plus ou moins risqué      4\n",
       "Name: Class, dtype: int64"
      ]
     },
     "execution_count": 407,
     "metadata": {},
     "output_type": "execute_result"
    }
   ],
   "source": [
    "data_test_sorted.Class.value_counts()"
   ]
  },
  {
   "cell_type": "code",
   "execution_count": 408,
   "metadata": {},
   "outputs": [
    {
     "data": {
      "image/png": "[encoded data removed]",
      "text/plain": [
       "<Figure size 432x288 with 1 Axes>"
      ]
     },
     "metadata": {
      "needs_background": "light"
     },
     "output_type": "display_data"
    }
   ],
   "source": [
    "sns.countplot(x=\"Class\", data=data_test_sorted)\n",
    "plt.show()"
   ]
  }
 ],
 "metadata": {
  "kernelspec": {
   "display_name": "Python 3",
   "language": "python",
   "name": "python3"
  },
  "language_info": {
   "codemirror_mode": {
    "name": "ipython",
    "version": 3
   },
   "file_extension": ".py",
   "mimetype": "text/x-python",
   "name": "python",
   "nbconvert_exporter": "python",
   "pygments_lexer": "ipython3",
   "version": "3.7.4"
  }
 },
 "nbformat": 4,
 "nbformat_minor": 2
}
